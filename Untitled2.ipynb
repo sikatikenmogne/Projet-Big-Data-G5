{
 "cells": [
  {
   "cell_type": "code",
   "execution_count": 28,
   "id": "7fa4b449",
   "metadata": {},
   "outputs": [
    {
     "name": "stdout",
     "output_type": "stream",
     "text": [
      "{0: [2, 4, 7, 8], 1: [2, 3, 4, 5], 2: [0, 1, 3, 4, 5, 7, 8, 9], 3: [1, 2, 4, 5, 6], 4: [0, 1, 2, 3, 5, 6, 7], 5: [1, 2, 3, 4, 6, 8], 6: [3, 4, 5, 7, 9], 7: [0, 2, 4, 6, 9], 8: [0, 2, 5, 9], 9: [2, 6, 7, 8]}\n"
     ]
    }
   ],
   "source": [
    "import random\n",
    "\n",
    "# Nombre de sommets dans le graphe\n",
    "n = 10\n",
    "\n",
    "# Création d'un dictionnaire vide pour représenter le graphe\n",
    "graph = {i: [] for i in range(n)}\n",
    "\n",
    "# Boucle sur chaque paire de sommets pour déterminer si une arête doit être ajoutée\n",
    "for i in range(n):\n",
    "    for j in range(i+1, n):\n",
    "        if random.random() < 0.5:\n",
    "            graph[i].append(j)\n",
    "            graph[j].append(i)\n",
    "\n",
    "print(graph)"
   ]
  },
  {
   "cell_type": "code",
   "execution_count": null,
   "id": "1fa6cdd4",
   "metadata": {},
   "outputs": [],
   "source": []
  }
 ],
 "metadata": {
  "kernelspec": {
   "display_name": "Python 3 (ipykernel)",
   "language": "python",
   "name": "python3"
  },
  "language_info": {
   "codemirror_mode": {
    "name": "ipython",
    "version": 3
   },
   "file_extension": ".py",
   "mimetype": "text/x-python",
   "name": "python",
   "nbconvert_exporter": "python",
   "pygments_lexer": "ipython3",
   "version": "3.9.0"
  }
 },
 "nbformat": 4,
 "nbformat_minor": 5
}
