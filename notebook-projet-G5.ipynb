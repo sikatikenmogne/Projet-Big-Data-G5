{
 "cells": [
  {
   "attachments": {},
   "cell_type": "markdown",
   "metadata": {},
   "source": [
    "# **Presentation du projet BIG-DATA**"
   ]
  },
  {
   "attachments": {},
   "cell_type": "markdown",
   "metadata": {},
   "source": [
    "## **1. Contexte**\n",
    "> Depuis les années 1990, la communauté internationale est de plus en plus sensibilisée à la réduction de la consommation d'énergie et des émissions de gaz à effet de serre. Le protocole de Kyoto, signé en 1997, était initialement insuffisant pour ralentir le réchauffement climatique. Cependant, des engagements ambitieux comme la réduction des émissions par 4 d'ici 2050 ont vu le jour. Les pouvoirs publics ne pouvant contraindre les individus à changer leurs habitudes, l'action se concentre sur les changements de comportement. L'ADEME (Agence de l'environnement et de la maîtrise de l'énergie) a lancé un appel à manifestation d'intérêt pour promouvoir des démonstrateurs et des expérimentations de nouvelles solutions de mobilité sur différents territoires. La structure Ucac-Icam a mené des études sur la mobilité multimodale intelligente, qui présente des défis en matière de gestion des ressources et de logistique des transports."
   ]
  },
  {
   "attachments": {},
   "cell_type": "markdown",
   "metadata": {},
   "source": [
    "## **2. Problématique**\n",
    "> Comment concevoir un algorithme qui va calculer sur un réseau routier une tournée permettant de relier entre elles un sous-ensemble de villes, puis de revenir à son point de départ, de manière à minimiser la distance totale parcourue ?"
   ]
  },
  {
   "attachments": {},
   "cell_type": "markdown",
   "metadata": {},
   "source": [
    "## **3. Modélisation du probleme**\n",
    "\n"
   ]
  },
  {
   "attachments": {},
   "cell_type": "markdown",
   "metadata": {},
   "source": [
    "### **3.1. Modélisation mathématique**"
   ]
  },
  {
   "attachments": {},
   "cell_type": "markdown",
   "metadata": {},
   "source": [
    "Soyont"
   ]
  },
  {
   "attachments": {},
   "cell_type": "markdown",
   "metadata": {},
   "source": [
    "#### **3.1.1. Indices**\n",
    "\n",
    "***I*** : L'ensemble de villes.\n",
    "\n",
    "***K***: L'ensemble de vehicules.\n",
    "\n",
    "#### **3.1.2. Paramètres**\n",
    "\n",
    "***c<sub>ij</sub>*** : Cout du trajet entre ville ***i*** et ville ***j***.\n",
    "\n",
    "***d<sub>i</sub>*** : la demande du client ***i***.\n",
    "\n",
    "***q<sub>k</sub>*** : la capacité du vehicule ***k***.\n",
    "\n",
    "#### **3.1.3. Variables**\n",
    "\n",
    "***x<sub>ijk</sub>*** tels que :\n",
    "\n",
    "$$\\begin{equation}  x_{ijk} \\in \\{0,1\\} \\quad \\forall _{j, i \\in I} \\end{equation}$$\n",
    "\n",
    "qui égale à 1 si le vehicule ***k***  visite la ville ***j*** depuis la ville ***i*** ou 0 sinon\n",
    "\n",
    "\n"
   ]
  },
  {
   "attachments": {},
   "cell_type": "markdown",
   "metadata": {},
   "source": [
    "#### **3.2. Fonction Objectif**\n"
   ]
  },
  {
   "attachments": {},
   "cell_type": "markdown",
   "metadata": {},
   "source": [
    "\n",
    "$$\\begin{equation}\\begin{aligned} Min \\quad Z =\\sum_{i \\in I} \\sum_{j \\in I}  \\sum_{k \\in K} c_{ij} * x_{ijk} \\end{aligned} \\end{equation}$$"
   ]
  },
  {
   "attachments": {},
   "cell_type": "markdown",
   "metadata": {},
   "source": [
    "#### **3.2.1. Contraintes**"
   ]
  },
  {
   "attachments": {},
   "cell_type": "markdown",
   "metadata": {},
   "source": [
    "##### **3.2.1.1. Contrainte 1:**\n",
    "\n",
    "Chaque nœud est entré une fois par un vehicule.\n",
    "\n"
   ]
  },
  {
   "attachments": {},
   "cell_type": "markdown",
   "metadata": {},
   "source": [
    "\n",
    "$$\\begin{equation} \\sum_{i \\in I }   \\sum_{k \\in K  }   x_{ijk} = 1 \\qquad \\forall _{j \\in I \\setminus 1} \\end{equation}$$"
   ]
  },
  {
   "attachments": {},
   "cell_type": "markdown",
   "metadata": {},
   "source": [
    "##### **3.2.1.2. Contrainte 2:**\n",
    "La sortie de chaque vehicule est depuis le point ou il est entrée.\n"
   ]
  },
  {
   "attachments": {},
   "cell_type": "markdown",
   "metadata": {},
   "source": [
    "$$\\begin{equation} \\sum_{i \\in I }  x_{ijk} = \\sum_{i \\in I }  x_{jik}  \\qquad \\forall _{j \\in I } \\quad \\forall _{k \\in K} \\end{equation}$$\n"
   ]
  },
  {
   "attachments": {},
   "cell_type": "markdown",
   "metadata": {},
   "source": [
    "##### **3.2.1.3. Contrainte 3:**\n",
    "Chaque véhicule quitte le dépôt"
   ]
  },
  {
   "attachments": {},
   "cell_type": "markdown",
   "metadata": {},
   "source": [
    "\n",
    "$$\n",
    "\\begin{equation} \\sum_{j \\in I \\setminus 1}  x_{1jk} = 1  \\qquad  \\forall _{k \\in K} \\end{equation}\n",
    "$$\n"
   ]
  },
  {
   "attachments": {},
   "cell_type": "markdown",
   "metadata": {},
   "source": [
    "##### **3.2.1.4. Contrainte 4:**\n",
    "La somme de livraison par vehicule, ne depasse pas la capacité du vehicule ."
   ]
  },
  {
   "attachments": {},
   "cell_type": "markdown",
   "metadata": {},
   "source": [
    "$$\\begin{equation} \\sum_{i \\in I }  \\sum_{j \\in I \\setminus 1}  d_{i}  *  x_{jik} \\leq q_{k}  \\qquad \\forall _{k \\in K} \\end{equation}\n",
    "$$"
   ]
  },
  {
   "attachments": {},
   "cell_type": "markdown",
   "metadata": {},
   "source": [
    "##### **3.2.1.4. Contrainte 5:**\n",
    "Elimine les sous tours à l'aide de la méthode Miller–Tucker–Zemlin (MTZ)."
   ]
  },
  {
   "attachments": {},
   "cell_type": "markdown",
   "metadata": {},
   "source": [
    "$$\\begin{equation} u_{ik} - u_{jk} + \\left( I - K \\right) * x_{ij} \\leq I-K-1 \\qquad \\forall _{i , j \\in I, \\ j \\neq 1} \\enspace \\forall _{k \\in K} \\end{equation}\n",
    "\\\\\n",
    "\\begin{equation} u_{ik} \\geq 0 \\qquad \\forall _{i  \\in I}  \\enspace \\forall _{k \\in K}  \\end{equation}\n",
    "$$\n"
   ]
  }
 ],
 "metadata": {
  "language_info": {
   "name": "python"
  },
  "orig_nbformat": 4
 },
 "nbformat": 4,
 "nbformat_minor": 2
}
