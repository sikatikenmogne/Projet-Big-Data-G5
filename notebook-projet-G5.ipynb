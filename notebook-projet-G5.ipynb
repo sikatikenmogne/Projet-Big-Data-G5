{
 "cells": [
  {
   "attachments": {},
   "cell_type": "markdown",
   "metadata": {},
   "source": [
    "# **BIG DATA project notebook by group 5**"
   ]
  },
  {
   "attachments": {},
   "cell_type": "markdown",
   "metadata": {},
   "source": [
    "## **1. Context**\n",
    "\n",
    "Since the 1990s, the international community has become increasingly aware of the need to reduce energy consumption and greenhouse gas emissions. The Kyoto Protocol, signed in 1997, was initially insufficient to slow global warming. However, ambitious commitments have been made, such as reducing emissions by a factor of 4 by 2050. As the public authorities cannot force individuals to change their habits, action is focusing on behavioural changes. The French Environment and Energy Management Agency (ADEME) has launched a call for expressions of interest to promote demonstrators and trials of new mobility solutions in different areas. The Ucac-Icam structure has conducted studies on intelligent multimodal mobility, which presents challenges in terms of resource management and transport logistics."
   ]
  },
  {
   "attachments": {},
   "cell_type": "markdown",
   "metadata": {},
   "source": [
    "## **2. Problematic**\n",
    "\n",
    "> **How to choose and implement an algorithm that will enable us optimise the logistic of transports in the urban zone with least pollution ?**"
   ]
  },
  {
   "attachments": {},
   "cell_type": "markdown",
   "metadata": {},
   "source": [
    "## **3. Modelling the algorithmic problem**\n"
   ]
  },
  {
   "attachments": {},
   "cell_type": "markdown",
   "metadata": {},
   "source": [
    "###  **3.1. Definition of the formal problem / mathematic modelling**"
   ]
  },
  {
   "attachments": {},
   "cell_type": "markdown",
   "metadata": {},
   "source": [
    "#### **3.1.1. Indices**\n",
    "\n",
    "- ***I*** : The set of vertices in the graph.\n",
    "\n",
    "- ***K***: The set of vehicules.\n",
    "\n",
    "#### **3.1.2. Parameters**\n",
    "\n",
    "- ***c<sub>ij</sub>*** : Cost of the journey between the vertex ***i*** and the vertex ***j***.\n",
    "\n",
    "- ***d<sub>i</sub>*** : Customer order. ***i***.\n",
    "\n",
    "- ***q<sub>k</sub>*** : vehicle capacity ***k***.\n",
    "\n",
    "#### **3.1.3. Variables**\n",
    "\n",
    "- ***x<sub>ijk</sub>*** which equals 1 if the vehicle ***k***  visit the vertex ***j*** form the vertex ***i*** or 0 otherwise\n",
    "\n",
    "\n"
   ]
  },
  {
   "attachments": {},
   "cell_type": "markdown",
   "metadata": {},
   "source": [
    "#### **3.2. Objective function**\n"
   ]
  },
  {
   "attachments": {},
   "cell_type": "markdown",
   "metadata": {},
   "source": [
    "\n",
    "$$\\begin{equation}\\begin{aligned} Min \\quad Z =\\sum_{i \\in I} \\sum_{j \\in I}  \\sum_{k \\in K} c_{ij} * x_{ijk} \\end{aligned} \\end{equation}$$"
   ]
  },
  {
   "attachments": {},
   "cell_type": "markdown",
   "metadata": {},
   "source": [
    "#### **3.2.1. Constraints**"
   ]
  },
  {
   "attachments": {},
   "cell_type": "markdown",
   "metadata": {},
   "source": [
    "##### **3.2.1.1. Constraint 1: Ensure that every node is entered once.**"
   ]
  },
  {
   "attachments": {},
   "cell_type": "markdown",
   "metadata": {},
   "source": [
    "\n",
    "$$\\begin{equation} \\sum_{i \\in I }   \\sum_{k \\in K  }   x_{ijk} = 1 \\qquad \\forall _{j \\in I \\setminus 1} \\end{equation}$$"
   ]
  },
  {
   "attachments": {},
   "cell_type": "markdown",
   "metadata": {},
   "source": [
    "##### **3.2.1.2. Constraint 2: Vehicle leaves node that it enters.**"
   ]
  },
  {
   "attachments": {},
   "cell_type": "markdown",
   "metadata": {},
   "source": [
    "$$\\begin{equation} \\sum_{i \\in I }  x_{ijk} = \\sum_{i \\in I }  x_{jik}  \\qquad \\forall _{j \\in I } \\quad \\forall _{k \\in K} \\end{equation}$$\n"
   ]
  },
  {
   "attachments": {},
   "cell_type": "markdown",
   "metadata": {},
   "source": [
    "##### **3.2.1.3. Constraint 3: Every vehicle leaves the depot**"
   ]
  },
  {
   "attachments": {},
   "cell_type": "markdown",
   "metadata": {},
   "source": [
    "\n",
    "$$\n",
    "\\begin{equation} \\sum_{j \\in I \\setminus 1}  x_{1jk} = 1  \\qquad  \\forall _{k \\in K} \\end{equation}\n",
    "$$\n"
   ]
  },
  {
   "attachments": {},
   "cell_type": "markdown",
   "metadata": {},
   "source": [
    "##### **3.2.1.4. Constraint 4: Capacity constraint**\n",
    "Respect the capacity of the vehicles. Note that all vehicles have the same capacity."
   ]
  },
  {
   "attachments": {},
   "cell_type": "markdown",
   "metadata": {},
   "source": [
    "$$\\begin{equation} \\sum_{i \\in I }  \\sum_{j \\in I \\setminus 1}  d_{i}  *  x_{jik} \\leq q_{k}  \\qquad \\forall _{k \\in K} \\end{equation}\n",
    "$$"
   ]
  },
  {
   "attachments": {},
   "cell_type": "markdown",
   "metadata": {},
   "source": [
    "##### **3.2.1.4. Constraint 5: Subtour Elimination Constraints**\n"
   ]
  },
  {
   "attachments": {},
   "cell_type": "markdown",
   "metadata": {},
   "source": [
    "$$\\begin{equation} u_{ik} - u_{jk} + \\left( I - K \\right) * x_{ij} \\leq I-K-1 \\qquad \\forall _{i , j \\in I, \\ j \\neq 1} \\enspace \\forall _{k \\in K} \\end{equation}\n",
    "$$\n"
   ]
  },
  {
   "attachments": {},
   "cell_type": "markdown",
   "metadata": {},
   "source": [
    "$$\n",
    "\\begin{equation} u_{ik} \\geq 0 \\qquad \\forall _{i  \\in I}  \\enspace \\forall _{k \\in K}  \\end{equation}\n",
    "$$\n"
   ]
  },
  {
   "attachments": {},
   "cell_type": "markdown",
   "metadata": {},
   "source": [
    "\n",
    "$$\\begin{equation}  x_{ijk} \\in \\{0,1\\} \\quad \\forall _{j, i \\in I} \\enspace \\forall _{k \\in K}  \\end{equation}$$"
   ]
  },
  {
   "attachments": {},
   "cell_type": "markdown",
   "metadata": {},
   "source": [
    "\n",
    "To formulate a VRPTW, some extra variables are needed $[a_i, b_i]$. \n",
    " is the time window of costumer ***i***. A vehicle must arrive at costumer ***i*** at least at $a_i$ and at most at $b_i$ \n",
    ". The time it takes to deliver the goods is irrelevant. \n",
    " $t_{ij}$ denotes the time is takes to get from costumer ***i*** to costumer ***j***. Any service time at costumer ***i*** is included. The variable $s_i$ denotes the time that a vehicle starts serving costumer ***i*** (which must be between \n",
    " $a_i$ and $b_i$ ). These constraints can be formulated as follows:"
   ]
  },
  {
   "attachments": {},
   "cell_type": "markdown",
   "metadata": {},
   "source": [
    "##### **3.2.1.6. Additionnal Constraints :**\n",
    "\n",
    "Constraints (2) ensures that a vehicle can start serving a costumer in the time window of that costumer. Constraint (1) keeps track of the duration of the routes. If the arc $x_{ijk}$\n",
    " is in the route, the constraint can be rewritten to $s_i + t_{ij} \\leq s_j$\n",
    ".\n"
   ]
  },
  {
   "attachments": {},
   "cell_type": "markdown",
   "metadata": {},
   "source": [
    "$$\\begin{equation} s_i + t_{ij} - M * (1 - x_{ijk}) \\leq s_j \\qquad (\\forall i \\in I, \\enspace j \\in I \\setminus \\{1\\}, \\enspace k \\in \\{1,...,p\\}) \\qquad \\end{equation}$$"
   ]
  },
  {
   "attachments": {},
   "cell_type": "markdown",
   "metadata": {},
   "source": [
    "$$\\begin{equation}\\qquad \\qquad \\qquad \\qquad a_i \\leq s_i \\leq b_i \\qquad (\\forall i \\in I) \\qquad \\qquad \\qquad \\qquad \\qquad \\qquad \\qquad \\end{equation}$$"
   ]
  },
  {
   "attachments": {},
   "cell_type": "markdown",
   "metadata": {},
   "source": [
    "$$\\begin{equation}* M = max \\{b_i + t_{ij} - a_i\\} \\qquad i,j \\in \\{1,...,n\\}\\end{equation}$$"
   ]
  },
  {
   "attachments": {},
   "cell_type": "markdown",
   "metadata": {},
   "source": [
    "### **3.2. Study of algorithmic complexity**"
   ]
  },
  {
   "attachments": {},
   "cell_type": "markdown",
   "metadata": {},
   "source": [
    "The objective of the VRP is to minimize the total route cost. In 1964, Clarke and Wright improved on Dantzig and Ramser's approach using an effective greedy algorithm called the savings algorithm.\n",
    "\n",
    "Determining the optimal solution to VRP is NP-hard, so the size of problems that can be optimally solved using mathematical programming or combinatorial optimization may be limited. Therefore, commercial solvers tend to use **heuristics** due to the size and frequency of real world VRPs they need to solve."
   ]
  },
  {
   "attachments": {},
   "cell_type": "markdown",
   "metadata": {},
   "source": [
    "### **3.3. Presentation of the choice of algorithm**"
   ]
  },
  {
   "attachments": {},
   "cell_type": "markdown",
   "metadata": {},
   "source": [
    "The second phase of the project takes optimization for different algorithms and adds some other kinds of algorithms as an experiment\n",
    "The main algorithms adopted are:\n",
    "Improved particle swarm, genetic-annealed, fast greed, improved ant colony, particle swarm - taboo, Google-ortools\n",
    "The main problems of each algorithm at this stage are:\n",
    "The improved particle swarm is greatly improved in time complexity and effect compared to the last time, but when the order of magnitude reaches 103At that time, the time was still very unsatisfactory\n",
    "\n",
    "Heredity - annealing\n",
    "\n",
    "Fast greed mainly uses KD-Tree + minimum heap, the main algorithm idea is to use KD-Tree to cluster, and then use the smallest heap, with edges as the operation object, spell out a number of paths, the idea of this algorithm is that I think the most reasonable at this stage, first cluster and then solve each path separately, first of all, the time complexity is very low, it is a good choice to solve a larger order of magnitude problem, secondly, the idea of this algorithm is also very reasonable, It is more in line with the design method of modern logistics layering, but unfortunately the technology is not good when it is implemented, and the original effect of the algorithm cannot be achieved\n",
    "\n",
    "The improvement of ant colonies mainly adds a negative feedback mechanism, which is much better than the original ant colony algorithm, but this kind of meta-heuristic algorithm still has the problem of high complexity of multiple parameters and time\n",
    "Particle swarm-taboo is obtained by adding a local search on the basis of improved particle swarm\n",
    "\n",
    "ortools is implemented using Google's open source framework ortools. Ortools is a set of toolkits for constraint problems, linear programming, and graph algorithms. This set of algorithms is actually good enough. Can output the optimal solution, and the time is good enough, but because the algorithm uses the built-in good enough model to solve the problem, and because the underlying mutual reference is too complicated, it took me a long time to fail to understand the problem The solution process of the model, and our project goal is to build a super-heuristic algorithm, but we can only give up this perfect answer, but if we want to really solve this type of problem, this toolkit must be my preferred method.\n"
   ]
  },
  {
   "attachments": {},
   "cell_type": "markdown",
   "metadata": {},
   "source": [
    "## **4. STUDY AND CALCULATION OF THE BEHAVIORAL STATISTICS OF THE ALGORITHM USED:**\n",
    "\n",
    "Here, we propose to set up 3 phases in order to find the best solution to our problem :"
   ]
  },
  {
   "attachments": {},
   "cell_type": "markdown",
   "metadata": {},
   "source": [
    "### **4.1. PHASE 1 : The Particles Of Swam(PSO) algorithm**\n",
    "\n",
    "The PSO algorithm is an optimization method inspired by the behavior of birds or insects in groups. It relies on a set of \"particles\" that move in a multidimensional search space to find the best possible solution.\n",
    "\n",
    "Each particle represents a potential solution in the search space. These particles adjust their position and velocity based on their own experience as well as the collective experience of the group. The movement of the particles is influenced by the best solution found so far by themselves (at the individual level) and by the best result obtained by any particle in the group (at the global level).\n",
    "\n",
    "The PSO algorithm is often used to solve optimization problems, such as finding the minimum or maximum of a given function. It is relatively simple to implement and does not require many parameters.\n",
    "\n",
    "In summary, the PSO algorithm is an optimization method based on the cooperative movement of particles in a search space, inspired by the behavior of animal swarms.\n",
    "\n"
   ]
  },
  {
   "attachments": {},
   "cell_type": "markdown",
   "metadata": {},
   "source": [
    "```R\n",
    "\n",
    "#City position distribution analysis: You can extract coordinates (pos) for each city and create a graph or histogram to visualize the spatial distribution of cities.\n",
    " library(jsonlite)\n",
    "# Path to JSON file\n",
    "json_file <- \"/Users/kevinfloride/Downloads/rep/data.json\"\n",
    "# Upload JSON file\n",
    "data <- fromJSON(\"/Users/kevinfloride/Downloads/rep/data.json\")\n",
    "# Extract the positions of the cities\n",
    " positions <- sapply(data$cityList, function(x) x$pos)\n",
    "# Create a position histogram\n",
    " hist(positions, main = \"Distribution des positions des villes\", xlab = \"Position\")\n",
    "\n",
    "```"
   ]
  },
  {
   "attachments": {},
   "cell_type": "markdown",
   "metadata": {},
   "source": [
    "![image.png](images/WhatsApp%20Image%202023-06-29%20at%2021.07.56.jpeg)"
   ]
  },
  {
   "attachments": {},
   "cell_type": "markdown",
   "metadata": {},
   "source": [
    "```R\n",
    "#Extract x and y coordinates from data object for regression\n",
    " x <- sapply(data$cityList, function(city) city$pos[1])\n",
    "y <- sapply(data$cityList, function(city) city$pos[2])\n",
    "#Perform linear regression using the lm() function to\n",
    "#fit a regression line to\n",
    "model <- lm(y ~ x)\n",
    "#Plot the regression curve using the plot() function\n",
    "#to show data points and\n",
    "# the abline() function to draw the regression line\n",
    "plot(x, y, pch = 16, xlab = \"Coordonnée x\", ylab = \"Coordonnée y\")\n",
    "abline(model, col = \"red\")\n",
    "\n",
    "```"
   ]
  },
  {
   "attachments": {},
   "cell_type": "markdown",
   "metadata": {},
   "source": [
    "![image-sample](images/WhatsApp%20Image%202023-06-29%20at%2021.07.53.jpeg)"
   ]
  },
  {
   "attachments": {},
   "cell_type": "markdown",
   "metadata": {},
   "source": [
    "```R\n",
    "#Access data\n",
    "city_data <- data$cityList\n",
    "#Calculate descriptive statistics\n",
    "# Extract x and y coordinates\n",
    "x <- sapply(city_data, function(x) x$pos[1])\n",
    "y <- sapply(city_data, function(x) x$pos[2])\n",
    "# Descriptive statistics for x coordinatesummary(x)\n",
    "mean(x)\n",
    "sd(x)\n",
    "# Descriptive statistics for the y coordinate\n",
    "summary(y)\n",
    "mean(y)\n",
    "sd(y)\n",
    "\n",
    "```"
   ]
  },
  {
   "attachments": {},
   "cell_type": "markdown",
   "metadata": {},
   "source": [
    "### **4.1. PHASE 2 :GREEDY ALGORITHM , GENETIC AND PARTICLES SWAM**\n",
    "\n",
    "\n",
    "In this phase, we will explore three optimization algorithms: the Greedy Algorithm, Genetic Algorithm, and Particle Swarm Optimization. These algorithms are commonly used in solving optimization problems in various fields.\n",
    "\n",
    "Greedy Algorithm:\n",
    "The Greedy Algorithm is a simple approach that makes locally optimal choices at each step to find an overall optimal solution. It starts with an empty solution and incrementally adds elements that offer the most immediate benefit. The Greedy Algorithm does not guarantee finding the globally optimal solution but often produces satisfactory results in less complex problems.\n",
    "\n",
    "Genetic Algorithm:\n",
    "The Genetic Algorithm is inspired by the process of natural selection and evolution. It emulates the principles of genetics, including mutation, crossover, and selection, to search for the optimal solution in a population of potential solutions. The algorithm iteratively evolves a population of individuals, selecting the fittest individuals for reproduction and applying genetic operators to create new offspring. Over generations, the population converges towards an optimal solution.\n",
    "\n",
    "Particle Swarm Optimization (PSO):\n",
    "Particle Swarm Optimization is a computational method inspired by the behavior of bird flocking or fish schooling. In PSO, a population of particles moves through the search space, searching for the optimal solution. Each particle adjusts its position based on its own experience and the best position found by any particle in the swarm. Through iterations, particles converge towards the global optimum by exchanging information about their best known positions.\n",
    "\n",
    "These algorithms can be applied to various optimization problems such as scheduling, resource allocation, route planning, and parameter tuning, among others. Each algorithm has its strengths and weaknesses, and the choice of which algorithm to use depends on the specific problem at hand.\n",
    "\n",
    "It's important to note that while these algorithms can provide good solutions, they may not always guarantee finding the absolute optimal solution due to the complexity and nature of some problems. Therefore, it's essential to consider the problem constraints, problem size, and available computational resources when selecting and applying these optimization algorithms.\n",
    "\n",
    "```R\n",
    "#SCRIPT 2#\n",
    "json_file <- \"/Users/kevinfloride/Downloads/instance.json\"\n",
    "#After converting csv to json\n",
    "# Convert the JSON data to a list\n",
    "data <- jsonlite::fromJSON(your_json_data)\n",
    "# Extract the \"Average\" values for each object in the list\n",
    "averages <- sapply(data, function(x) as.numeric(x))\n",
    "df <- as.data.frame(data)\n",
    "numeric_columns <- c(\"Number of Cities\", \"Average\", paste0(\"Execution_Time (test \", 1:25, \")\"))\n",
    "df[numeric_columns] <- lapply(df[numeric_columns], as.numeric)\n",
    "summary(df[numeric_columns])\n",
    "```\n",
    " \n",
    "\n"
   ]
  },
  {
   "attachments": {},
   "cell_type": "markdown",
   "metadata": {},
   "source": [
    "![images](images/WhatsApp%20Image%202023-06-29%20at%2021.07.46%20(1).jpeg)"
   ]
  },
  {
   "attachments": {},
   "cell_type": "markdown",
   "metadata": {},
   "source": [
    "# Create the histogram\n",
    "hist(averages, main = \"Histogram of Average Execution Times\", xlab = \"Average Execution Time\")\n",
    "\n",
    " ![images](images/WhatsApp%20Image%202023-06-29%20at%2021.07.56.jpeg)\n",
    "\n",
    "#regression courb\n",
    "library(ggplot2)\n",
    "library(farver)\n",
    "ggplot(data = df, aes(x = as.numeric(`Number of Cities`), y = as.numeric(Average))) +\n",
    "  geom_point() +  # Display observed data points\n",
    "\n",
    "  geom_smooth(method = \"lm\", se = FALSE) + # Add the regression curve\n"
   ]
  }
 ],
 "metadata": {
  "kernelspec": {
   "display_name": "Python 3 (ipykernel)",
   "language": "python",
   "name": "python3"
  },
  "language_info": {
   "codemirror_mode": {
    "name": "ipython",
    "version": 3
   },
   "file_extension": ".py",
   "mimetype": "text/x-python",
   "name": "python",
   "nbconvert_exporter": "python",
   "pygments_lexer": "ipython3",
   "version": "3.10.9"
  }
 },
 "nbformat": 4,
 "nbformat_minor": 2
}
